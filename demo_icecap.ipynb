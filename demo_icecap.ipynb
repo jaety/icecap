{
 "cells": [
  {
   "cell_type": "code",
   "execution_count": 1,
   "metadata": {},
   "outputs": [],
   "source": [
    "from icecap import Project\n",
    "import icecap as ice\n",
    "import polars as pl "
   ]
  },
  {
   "cell_type": "code",
   "execution_count": 2,
   "metadata": {},
   "outputs": [],
   "source": [
    "proj = Project() \n",
    "\n",
    "proj['raw'] = proj.scan_csv(\"world_bank_gdp_data.csv\")\n",
    "\n",
    "input = proj['raw'].select(\n",
    "    pl.col(\"Country Code\").alias(\"Country\"),\n",
    "    pl.col(\"^[0-9]+.*$\").cast(pl.Float32, strict=False).map_alias(lambda s: s[:4]))\n",
    "\n",
    "input = input.melt(id_vars=[\"Country\"], variable_name=\"Date\", value_name=\"GDP\") #, \"pivot tall\"\n",
    "\n",
    "input = input.select(\n",
    "    pl.col(\"Country\"),\n",
    "    pl.col(\"Date\").cast(pl.Int32),\n",
    "    pl.col(\"*\").exclude(\"Country\", \"Date\")\n",
    ") #, \"cast dates to number\"\n",
    "\n",
    "input = input.drop_nulls().sort(by=[\"Country\", \"Date\"]) #, \"drop nulls and sort\"\n",
    "\n",
    "proj['input'] = input\n"
   ]
  },
  {
   "cell_type": "code",
   "execution_count": 5,
   "metadata": {},
   "outputs": [
    {
     "data": {
      "application/vnd.jupyter.widget-view+json": {
       "model_id": "2ac977d8e1a248348ab894a410777666",
       "version_major": 2,
       "version_minor": 0
      },
      "text/plain": [
       "HBox(children=(VBox(children=(IntSlider(value=5, max=5), Output()), layout=Layout(min_width='320px')), Output(…"
      ]
     },
     "execution_count": 5,
     "metadata": {},
     "output_type": "execute_result"
    }
   ],
   "source": [
    "widget = proj['input'].inspect(adjust_lf=lambda x: x.head(5).collect())\n",
    "widget"
   ]
  },
  {
   "cell_type": "code",
   "execution_count": 4,
   "metadata": {},
   "outputs": [
    {
     "data": {
      "text/plain": [
       "[<icecap.Frame at 0x10d822560>, <icecap.Frame at 0x10d823460>]"
      ]
     },
     "execution_count": 4,
     "metadata": {},
     "output_type": "execute_result"
    }
   ],
   "source": [
    "ice.traverse(proj['input'], named_only=True)"
   ]
  },
  {
   "cell_type": "code",
   "execution_count": null,
   "metadata": {},
   "outputs": [],
   "source": []
  }
 ],
 "metadata": {
  "jupytext": {
   "formats": "ipynb,py:percent"
  },
  "kernelspec": {
   "display_name": "Python 3",
   "language": "python",
   "name": "python3"
  },
  "language_info": {
   "codemirror_mode": {
    "name": "ipython",
    "version": 3
   },
   "file_extension": ".py",
   "mimetype": "text/x-python",
   "name": "python",
   "nbconvert_exporter": "python",
   "pygments_lexer": "ipython3",
   "version": "3.10.12"
  }
 },
 "nbformat": 4,
 "nbformat_minor": 2
}
