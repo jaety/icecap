{
 "cells": [
  {
   "cell_type": "code",
   "execution_count": 1,
   "metadata": {},
   "outputs": [],
   "source": [
    "from icecap import Project\n",
    "import icecap as ice\n",
    "import polars as pl "
   ]
  },
  {
   "cell_type": "code",
   "execution_count": 2,
   "metadata": {},
   "outputs": [],
   "source": [
    "proj = Project() \n",
    "\n",
    "raw_input = proj.scan_csv(\"world_bank_gdp_data.csv\")\n",
    "\n",
    "proj['raw'] = raw_input \n",
    "\n",
    "input = proj['raw'].select(\n",
    "    pl.col(\"Country Code\").alias(\"Country\"),\n",
    "    pl.col(\"^[0-9]+.*$\").cast(pl.Float32, strict=False).map_alias(lambda s: s[:4]))\n",
    "\n",
    "input = input.melt(id_vars=[\"Country\"], variable_name=\"Date\", value_name=\"GDP\") #, \"pivot tall\"\n",
    "\n",
    "input = input.select(\n",
    "    pl.col(\"Country\"),\n",
    "    pl.col(\"Date\").cast(pl.Int32),\n",
    "    pl.col(\"*\").exclude(\"Country\", \"Date\")\n",
    ") #, \"cast dates to number\"\n",
    "\n",
    "input = input.drop_nulls().sort(by=[\"Country\", \"Date\"]) #, \"drop nulls and sort\"\n",
    "\n",
    "proj['input'] = input\n"
   ]
  },
  {
   "cell_type": "code",
   "execution_count": 3,
   "metadata": {},
   "outputs": [
    {
     "data": {
      "application/vnd.jupyter.widget-view+json": {
       "model_id": "6353c87888d041999f6a68649fdadf19",
       "version_major": 2,
       "version_minor": 0
      },
      "text/plain": [
       "HBox(children=(VBox(children=(IntSlider(value=5, max=5), Output()), layout=Layout(min_width='320px')), Output(…"
      ]
     },
     "execution_count": 3,
     "metadata": {},
     "output_type": "execute_result"
    }
   ],
   "source": [
    "widget = proj['input'].inspect()\n",
    "widget"
   ]
  },
  {
   "cell_type": "code",
   "execution_count": 10,
   "metadata": {},
   "outputs": [
    {
     "data": {
      "application/vnd.jupyter.widget-view+json": {
       "model_id": "7afd80c463dd42bfb1e896c3eeffc3f6",
       "version_major": 2,
       "version_minor": 0
      },
      "text/plain": [
       "HBox(children=(VBox(children=(IntSlider(value=9, max=9), Output()), layout=Layout(min_width='320px')), Output(…"
      ]
     },
     "execution_count": 10,
     "metadata": {},
     "output_type": "execute_result"
    }
   ],
   "source": [
    "calc = proj['input'].copy()\n",
    "\n",
    "# # No, not going to support this. If you do this, just write the 'over' expr directly.\n",
    "# with calc.over(\"Country\"):\n",
    "#     calc = calc.with_columns(diff = (pl.col(\"GDP\") - pl.col(\"GDP\").shift(1)).over(\"Country\"))\n",
    "\n",
    "with calc.over(\"Country\"):\n",
    "    calc['diff']     = pl.col(\"GDP\") - pl.col(\"GDP\").shift(1)\n",
    "    calc['diff_avg'] = pl.col('diff').rolling_mean(5)  \n",
    "    calc['diff_std'] = pl.col('diff').rolling_std(5)\n",
    "\n",
    "proj['calc'] = calc \n",
    "\n",
    "proj['calc'].inspect(until='input')\n",
    "\n"
   ]
  },
  {
   "cell_type": "code",
   "execution_count": 5,
   "metadata": {},
   "outputs": [
    {
     "data": {
      "application/vnd.jupyter.widget-view+json": {
       "model_id": "46be677aa5304c97ad2ea4eeed4f7790",
       "version_major": 2,
       "version_minor": 0
      },
      "text/plain": [
       "HBox(children=(VBox(children=(IntSlider(value=7, max=7), Output()), layout=Layout(min_width='320px')), Output(…"
      ]
     },
     "execution_count": 5,
     "metadata": {},
     "output_type": "execute_result"
    }
   ],
   "source": [
    "disp = proj['calc']\n",
    "disp = disp.filter(pl.col(\"Date\").is_between(2015,2020))\n",
    "disp = disp.melt([\"Country\",\"Date\"],[], \"Field\")\n",
    "disp = disp.collect().pivot(\"value\",[\"Country\",\"Field\"],\"Date\").sort(by=[\"Country\",\"Field\"])\n",
    "disp.inspect(until=lambda df:df.parent_attr==\"copy\")"
   ]
  },
  {
   "cell_type": "code",
   "execution_count": 6,
   "metadata": {},
   "outputs": [
    {
     "data": {
      "text/html": [
       "<div><style>\n",
       ".dataframe > thead > tr > th,\n",
       ".dataframe > tbody > tr > td {\n",
       "  text-align: right;\n",
       "}\n",
       "</style>\n",
       "<small>shape: (261, 16)</small><table border=\"1\" class=\"dataframe\"><thead><tr><th>Country</th><th>GDP_Date_2010</th><th>GDP_Date_2011</th><th>GDP_Date_2012</th><th>GDP_Date_2013</th><th>GDP_Date_2014</th><th>diff_Date_2010</th><th>diff_Date_2011</th><th>diff_Date_2012</th><th>diff_Date_2013</th><th>diff_Date_2014</th><th>diff_avg_Date_2010</th><th>diff_avg_Date_2011</th><th>diff_avg_Date_2012</th><th>diff_avg_Date_2013</th><th>diff_avg_Date_2014</th></tr><tr><td>str</td><td>f32</td><td>f32</td><td>f32</td><td>f32</td><td>f32</td><td>f32</td><td>f32</td><td>f32</td><td>f32</td><td>f32</td><td>f32</td><td>f32</td><td>f32</td><td>f32</td><td>f32</td></tr></thead><tbody><tr><td>&quot;ABW&quot;</td><td>2.4536e9</td><td>2.6380e9</td><td>2.6151e9</td><td>2.7279e9</td><td>2.7911e9</td><td>-1.0000e8</td><td>1.84357632e8</td><td>-2.2905088e7</td><td>1.12849152e8</td><td>6.3128576e7</td><td>1.8770944e7</td><td>3.3631284e7</td><td>-1.2513946e7</td><td>-2.3016756e7</td><td>4.7486056e7</td></tr><tr><td>&quot;AFE&quot;</td><td>8.6352e11</td><td>9.6782e11</td><td>9.7535e11</td><td>9.8599e11</td><td>1.0065e12</td><td>1.4162e11</td><td>1.0431e11</td><td>7.5302e9</td><td>1.0632e10</td><td>2.0539e10</td><td>6.9916e10</td><td>7.8048e10</td><td>6.2497e10</td><td>5.5090e10</td><td>5.6925e10</td></tr><tr><td>&quot;AFG&quot;</td><td>1.5634e10</td><td>1.8190e10</td><td>2.0204e10</td><td>2.0564e10</td><td>2.0551e10</td><td>3.4790e9</td><td>2.5566e9</td><td>2.0132e9</td><td>3.60912896e8</td><td>-1.3903872e7</td><td>1.8815e9</td><td>2.2438e9</td><td>2.0976e9</td><td>2.0629e9</td><td>1.6791e9</td></tr><tr><td>&quot;AFW&quot;</td><td>5.9852e11</td><td>6.8202e11</td><td>7.3759e11</td><td>8.3395e11</td><td>8.9432e11</td><td>9.0159e10</td><td>8.3494e10</td><td>5.5574e10</td><td>9.6359e10</td><td>6.0374e10</td><td>5.7526e10</td><td>5.7019e10</td><td>5.4421e10</td><td>5.3231e10</td><td>7.7192e10</td></tr><tr><td>&quot;AGO&quot;</td><td>8.1700e10</td><td>1.0944e11</td><td>1.2500e11</td><td>1.3340e11</td><td>1.3724e11</td><td>1.1392e10</td><td>2.7737e10</td><td>1.5562e10</td><td>8.4034e9</td><td>3.8429e9</td><td>8.9457e9</td><td>1.1411e10</td><td>1.1946e10</td><td>8.9726e9</td><td>1.3387e10</td></tr><tr><td>&quot;ALB&quot;</td><td>1.1927e10</td><td>1.2891e10</td><td>1.2320e10</td><td>1.2776e10</td><td>1.3228e10</td><td>-1.1728e8</td><td>9.63833856e8</td><td>-5.7093e8</td><td>4.56390656e8</td><td>4.51922944e8</td><td>7.74969856e8</td><td>7.98937088e8</td><td>3.28501856e8</td><td>-2.1025588e7</td><td>2.3678832e8</td></tr><tr><td>&quot;AND&quot;</td><td>3.4499e9</td><td>3.6291e9</td><td>3.1887e9</td><td>3.1935e9</td><td>3.2717e9</td><td>-2.2426e8</td><td>1.79207936e8</td><td>-4.4048e8</td><td>4.86016e6</td><td>7.8172672e7</td><td>5.8019712e7</td><td>3.4573696e7</td><td>-1.5275e8</td><td>-1.7845e8</td><td>-8.050056e7</td></tr><tr><td>&quot;ARB&quot;</td><td>2.3346e12</td><td>2.5560e12</td><td>2.8017e12</td><td>2.8597e12</td><td>2.9057e12</td><td>3.4758e11</td><td>2.2134e11</td><td>2.4572e11</td><td>5.7972e10</td><td>4.6064e10</td><td>2.0605e11</td><td>2.0209e11</td><td>2.0075e11</td><td>1.1933e11</td><td>1.8374e11</td></tr><tr><td>&quot;ARE&quot;</td><td>2.8979e11</td><td>3.5067e11</td><td>3.8461e11</td><td>4.0022e11</td><td>4.1411e11</td><td>3.6240e10</td><td>6.0879e10</td><td>3.3944e10</td><td>1.5608e10</td><td>1.3887e10</td><td>2.1834e10</td><td>2.5710e10</td><td>2.5339e10</td><td>1.6949e10</td><td>3.2112e10</td></tr><tr><td>&quot;ARG&quot;</td><td>4.2363e11</td><td>5.3016e11</td><td>5.4598e11</td><td>5.5203e11</td><td>5.2632e11</td><td>9.0651e10</td><td>1.0653e11</td><td>1.5824e10</td><td>6.0427e9</td><td>-2.5705e10</td><td>4.4978e10</td><td>5.9520e10</td><td>5.1690e10</td><td>3.8093e10</td><td>3.8669e10</td></tr><tr><td>&quot;ARM&quot;</td><td>9.2603e9</td><td>1.0142e10</td><td>1.0619e10</td><td>1.1121e10</td><td>1.1610e10</td><td>6.12348928e8</td><td>8.81825792e8</td><td>4.77208576e8</td><td>5.02144e8</td><td>4.8804864e8</td><td>8.71963008e8</td><td>7.51531712e8</td><td>2.8260352e8</td><td>-1.0812e8</td><td>5.92315008e8</td></tr><tr><td>&quot;ASM&quot;</td><td>5.73e8</td><td>5.7e8</td><td>6.4e8</td><td>6.38e8</td><td>6.43e8</td><td>-1.0200e8</td><td>-3e6</td><td>7e7</td><td>-2e6</td><td>5e6</td><td>1.46e7</td><td>1.54e7</td><td>2.44e7</td><td>1.56e7</td><td>-6.4e6</td></tr><tr><td>&hellip;</td><td>&hellip;</td><td>&hellip;</td><td>&hellip;</td><td>&hellip;</td><td>&hellip;</td><td>&hellip;</td><td>&hellip;</td><td>&hellip;</td><td>&hellip;</td><td>&hellip;</td><td>&hellip;</td><td>&hellip;</td><td>&hellip;</td><td>&hellip;</td><td>&hellip;</td></tr><tr><td>&quot;VCT&quot;</td><td>7.20447872e8</td><td>7.13796352e8</td><td>7.30032576e8</td><td>7.64781248e8</td><td>7.7090144e8</td><td>6.147584e6</td><td>-6.65152e6</td><td>1.6236224e7</td><td>3.4748672e7</td><td>6.120192e6</td><td>2.8099788e7</td><td>1.4059046e7</td><td>3.2872e6</td><td>6.423603e6</td><td>1.132023e7</td></tr><tr><td>&quot;VEN&quot;</td><td>3.9319e11</td><td>3.1648e11</td><td>3.8129e11</td><td>3.7101e11</td><td>4.8236e11</td><td>6.3405e10</td><td>-7.6710e10</td><td>6.4804e10</td><td>-1.0281e10</td><td>1.1135e11</td><td>4.9536e10</td><td>2.6601e10</td><td>3.0184e10</td><td>1.1010e10</td><td>3.0514e10</td></tr><tr><td>&quot;VIR&quot;</td><td>4.3240e9</td><td>4.2230e9</td><td>4.0890e9</td><td>3.7380e9</td><td>3.5650e9</td><td>1.22999808e8</td><td>-1.0100e8</td><td>-1.3400e8</td><td>-3.5100e8</td><td>-1.7300e8</td><td>-2.0800102e7</td><td>-5.2199936e7</td><td>-1.3900e8</td><td>-1.0120e8</td><td>-1.2720e8</td></tr><tr><td>&quot;VNM&quot;</td><td>1.4720e11</td><td>1.7260e11</td><td>1.9559e11</td><td>2.1371e11</td><td>2.3345e11</td><td>4.1187e10</td><td>2.5394e10</td><td>2.2996e10</td><td>1.8118e10</td><td>1.9743e10</td><td>1.7914e10</td><td>2.1245e10</td><td>2.3635e10</td><td>2.2916e10</td><td>2.5487e10</td></tr><tr><td>&quot;VUT&quot;</td><td>6.7071296e8</td><td>7.701536e8</td><td>7.4783968e8</td><td>7.58304448e8</td><td>7.72315968e8</td><td>7.8090624e7</td><td>9.944064e7</td><td>-2.231392e7</td><td>1.0464768e7</td><td>1.401152e7</td><td>5.5150104e7</td><td>6.6159e7</td><td>4.6289352e7</td><td>3.3511206e7</td><td>3.5938728e7</td></tr><tr><td>&quot;WLD&quot;</td><td>6.6620e13</td><td>7.3882e13</td><td>7.5526e13</td><td>7.7635e13</td><td>7.9757e13</td><td>5.8019e12</td><td>7.2620e12</td><td>1.6442e12</td><td>2.1092e12</td><td>2.1214e12</td><td>3.7652e12</td><td>4.4181e12</td><td>3.4330e12</td><td>2.7000e12</td><td>3.7877e12</td></tr><tr><td>&quot;WSM&quot;</td><td>6.80260928e8</td><td>7.4409696e8</td><td>7.73141696e8</td><td>7.97736256e8</td><td>7.96683648e8</td><td>5.2254784e7</td><td>6.3836032e7</td><td>2.9044736e7</td><td>2.459456e7</td><td>-1.052608e6</td><td>4.0691828e7</td><td>4.8834644e7</td><td>3.9918644e7</td><td>3.1278016e7</td><td>3.37355e7</td></tr><tr><td>&quot;XKX&quot;</td><td>5.3440e9</td><td>6.3416e9</td><td>6.1635e9</td><td>6.7353e9</td><td>7.0744e9</td><td>3.2805632e8</td><td>9.97663744e8</td><td>-1.7813e8</td><td>5.71844608e8</td><td>3.39065344e8</td><td>null</td><td>null</td><td>null</td><td>3.10710176e8</td><td>4.11699712e8</td></tr><tr><td>&quot;YEM&quot;</td><td>3.0907e10</td><td>3.2726e10</td><td>3.5401e10</td><td>4.0415e10</td><td>4.3229e10</td><td>5.7765e9</td><td>1.8197e9</td><td>2.6749e9</td><td>5.0139e9</td><td>2.8134e9</td><td>2.8321e9</td><td>2.7329e9</td><td>2.7502e9</td><td>2.7009e9</td><td>3.6197e9</td></tr><tr><td>&quot;ZAF&quot;</td><td>4.1736e11</td><td>4.5820e11</td><td>4.3440e11</td><td>4.0089e11</td><td>3.8120e11</td><td>8.7610e10</td><td>4.0836e10</td><td>-2.3799e10</td><td>-3.3515e10</td><td>-1.9687e10</td><td>2.5699e10</td><td>3.0868e10</td><td>2.0265e10</td><td>1.6951e10</td><td>1.0289e10</td></tr><tr><td>&quot;ZMB&quot;</td><td>2.0266e10</td><td>2.3460e10</td><td>2.5503e10</td><td>2.8037e10</td><td>2.7141e10</td><td>4.9372e9</td><td>3.1940e9</td><td>2.0435e9</td><td>2.5342e9</td><td>-8.9622e8</td><td>2.3867e9</td><td>2.1405e9</td><td>2.2892e9</td><td>2.0253e9</td><td>2.3625e9</td></tr><tr><td>&quot;ZWE&quot;</td><td>1.2042e10</td><td>1.4102e10</td><td>1.7115e10</td><td>1.9091e10</td><td>1.9496e10</td><td>2.3759e9</td><td>2.0603e9</td><td>3.0129e9</td><td>1.9762e9</td><td>4.0450048e8</td><td>1.2573e9</td><td>1.7316e9</td><td>2.3646e9</td><td>2.9351e9</td><td>1.9659e9</td></tr></tbody></table></div>"
      ],
      "text/plain": [
       "<icecap.Frame at 0x1055b2200>"
      ]
     },
     "metadata": {},
     "output_type": "display_data"
    }
   ],
   "source": [
    "# display(proj['calc'].groupby(\"Country\", maintain_order=True).last().head(5).collect())\n",
    "# display(proj['calc'].filter(pl.col(\"Date\") == 2010).head(5).collect())\n",
    "display(proj['calc'].filter((pl.col(\"Date\") >= 2010) & (pl.col(\"Date\") < 2015)).collect().pivot([\"GDP\",\"diff\",\"diff_avg\"], \"Country\", \"Date\"))"
   ]
  },
  {
   "cell_type": "code",
   "execution_count": 7,
   "metadata": {},
   "outputs": [],
   "source": [
    "# display(proj.named)\n",
    "# display(ice.traverse(calc))"
   ]
  },
  {
   "cell_type": "code",
   "execution_count": 8,
   "metadata": {},
   "outputs": [],
   "source": [
    "# with calc.group(\"Country\") as grp:\n",
    "#     grp['diff']     = pl.col(\"GDP\") - pl.col(\"GDP\").shift(1)\n",
    "#     grp['diff_avg'] = pl.col('diff').rolling_mean(5)\n",
    "\n",
    "# def adjust(df):\n",
    "#     if \"Country\" in df.columns:\n",
    "#         return df.filter(pl.col(\"Country\")==\"USA\").head(10).collect()\n",
    "#     else:\n",
    "#         return df.head(10).collect()\n",
    "\n",
    "# inspect_df(calc, adjust)"
   ]
  },
  {
   "cell_type": "markdown",
   "metadata": {},
   "source": [
    "TODOs\n",
    "\n",
    "1. 'until' on traverse\n",
    "2. track graphs (joins)\n",
    "3. Diagnostics for Period Series like tables. \n",
    "4. Table formats"
   ]
  },
  {
   "cell_type": "markdown",
   "metadata": {},
   "source": []
  }
 ],
 "metadata": {
  "jupytext": {
   "formats": "ipynb,py:percent"
  },
  "kernelspec": {
   "display_name": "Python 3",
   "language": "python",
   "name": "python3"
  },
  "language_info": {
   "codemirror_mode": {
    "name": "ipython",
    "version": 3
   },
   "file_extension": ".py",
   "mimetype": "text/x-python",
   "name": "python",
   "nbconvert_exporter": "python",
   "pygments_lexer": "ipython3",
   "version": "3.10.12"
  }
 },
 "nbformat": 4,
 "nbformat_minor": 2
}
