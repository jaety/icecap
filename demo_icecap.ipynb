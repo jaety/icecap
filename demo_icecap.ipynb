{
 "cells": [
  {
   "cell_type": "code",
   "execution_count": 1,
   "metadata": {},
   "outputs": [],
   "source": [
    "from icecap import Project\n",
    "import icecap as ice\n",
    "import polars as pl "
   ]
  },
  {
   "cell_type": "code",
   "execution_count": 3,
   "metadata": {},
   "outputs": [
    {
     "data": {
      "application/vnd.jupyter.widget-view+json": {
       "model_id": "d40726caf0394e9cb5db16b8d0e2a7e4",
       "version_major": 2,
       "version_minor": 0
      },
      "text/plain": [
       "HBox(children=(VBox(children=(IntSlider(value=5, max=5), Output()), layout=Layout(min_width='320px')), Output(…"
      ]
     },
     "execution_count": 3,
     "metadata": {},
     "output_type": "execute_result"
    }
   ],
   "source": [
    "proj = Project() \n",
    "\n",
    "raw_input = proj.scan_csv(\"world_bank_gdp_data.csv\")\n",
    "\n",
    "proj['raw'] = raw_input \n",
    "\n",
    "input = proj['raw'].select(\n",
    "    pl.col(\"Country Code\").alias(\"Country\"),\n",
    "    pl.col(\"^[0-9]+.*$\").cast(pl.Float32, strict=False).map_alias(lambda s: s[:4]))\n",
    "\n",
    "proj['country'] = input\n",
    "\n",
    "input = input.melt(id_vars=[\"Country\"], variable_name=\"Date\", value_name=\"GDP\") #, \"pivot tall\"\n",
    "\n",
    "input = input.select(\n",
    "    pl.col(\"Country\"),\n",
    "    pl.col(\"Date\").cast(pl.Int32),\n",
    "    pl.col(\"*\").exclude(\"Country\", \"Date\")\n",
    ") #, \"cast dates to number\"\n",
    "\n",
    "input = input.drop_nulls().sort(by=[\"Country\", \"Date\"]) #, \"drop nulls and sort\"\n",
    "\n",
    "proj['input'] = input\n",
    "\n",
    "proj['input'].inspect()"
   ]
  },
  {
   "cell_type": "code",
   "execution_count": 5,
   "metadata": {},
   "outputs": [
    {
     "data": {
      "application/vnd.jupyter.widget-view+json": {
       "model_id": "4e3138bc38644afdbada53a5534874ba",
       "version_major": 2,
       "version_minor": 0
      },
      "text/plain": [
       "HBox(children=(VBox(children=(IntSlider(value=5, max=5), Output()), layout=Layout(min_width='320px')), Output(…"
      ]
     },
     "execution_count": 5,
     "metadata": {},
     "output_type": "execute_result"
    }
   ],
   "source": [
    "largest_economies = [\"USA\",\"CHN\",\"DEU\",\"JPN\",\"IND\",\"GBR\",\"BRZ\",\"FRA\",\"CAN\"]\n",
    "\n",
    "filters = {\n",
    "    (\"Country\",pl.Utf8): pl.col('Country').is_in([\"JPN\",\"USA\"]), #largest_economies),\n",
    "    (\"Date\", pl.Int32) : pl.col('Date').is_between(2010, 2024)\n",
    "}\n",
    "finalize = lambda df: df.collect().to_pandas().style \\\n",
    "    .format(precision=0, thousands=\",\", decimal=\".\")\n",
    "\n",
    "proj['input'].inspect(ice.adjust(filters, finalize=finalize, head=10))\n",
    "\n",
    "# TODO: Illustrating what adjustments are applied in the visuals.\n"
   ]
  },
  {
   "cell_type": "code",
   "execution_count": 6,
   "metadata": {},
   "outputs": [
    {
     "data": {
      "application/vnd.jupyter.widget-view+json": {
       "model_id": "92ac0daf3b9e4d609dec2ee105cb350a",
       "version_major": 2,
       "version_minor": 0
      },
      "text/plain": [
       "HBox(children=(VBox(children=(IntSlider(value=4, max=4), Output()), layout=Layout(min_width='320px')), Output(…"
      ]
     },
     "execution_count": 6,
     "metadata": {},
     "output_type": "execute_result"
    }
   ],
   "source": [
    "calc = proj['input'].copy()\n",
    "\n",
    "# # No, not going to support this. If you do this, just write the 'over' expr directly.\n",
    "# with calc.over(\"Country\"):\n",
    "#     calc = calc.with_columns(diff = (pl.col(\"GDP\") - pl.col(\"GDP\").shift(1)).over(\"Country\"))\n",
    "\n",
    "with calc.over(\"Country\"):\n",
    "    calc['diff']     = pl.col(\"GDP\") - pl.col(\"GDP\").shift(1)\n",
    "    calc['diff_avg'] = pl.col('diff').rolling_mean(5)  \n",
    "    calc['diff_std'] = pl.col('diff').rolling_std(5)\n",
    "\n",
    "proj['calc'] = calc \n",
    "\n",
    "proj['calc'].inspect(until='input')\n",
    "\n"
   ]
  },
  {
   "cell_type": "code",
   "execution_count": null,
   "metadata": {},
   "outputs": [],
   "source": [
    "# disp = proj['calc']\n",
    "# min = ice.param(2015)\n",
    "# max = ice.param(2020)\n",
    "# disp = disp.filter(pl.col(\"Date\").is_between(min,max))\n",
    "# disp = disp.melt([\"Country\",\"Date\"],[], \"Field\")\n",
    "# disp = disp.collect().pivot(\"value\",[\"Country\",\"Field\"],\"Date\").sort(by=[\"Country\",\"Field\"])\n",
    "# # calc.save_to('diags_pivot', disp)\n",
    "# disp.inspect(until=lambda df:df.parent_attr==\"copy\")"
   ]
  },
  {
   "cell_type": "code",
   "execution_count": 7,
   "metadata": {},
   "outputs": [
    {
     "name": "stdout",
     "output_type": "stream",
     "text": [
      "    binary: &     \n",
      "\n",
      "       |                                        |         \n",
      "\n",
      "    binary: <=                                 binary: >=     \n",
      "\n",
      "       |              |                         |                 |        \n",
      "\n",
      "    lit(2020)         col(Date)                lit(Series)        col(Date)    \n",
      "\n"
     ]
    }
   ],
   "source": [
    "\"\"\"\n",
    "How does this work. \n",
    "I want to be able to update a parameter and that flows through to wherever it's used. That means that \n",
    "I don't want the literal to be fixed. I want it to be post-hoc adjustable. \n",
    "\n",
    "I'm probably going to abandon this experiment, at least for now. \n",
    "\"\"\"\n",
    "\n",
    "class Param:\n",
    "    def __init__(self, wrapped):\n",
    "        self.wrapped = wrapped\n",
    "\n",
    "x = pl.col(\"Date\").is_between(pl.lit(Param(2015), allow_object=True),2020)\n",
    "x.meta.tree_format()\n",
    "# y = pl.lit(2015).alias('y')\n",
    "# x = pl.col(\"Date\").is_between(y,2020)\n"
   ]
  },
  {
   "cell_type": "markdown",
   "metadata": {},
   "source": [
    "* Create a data frame for visualization |Done|\n",
    "* Create a rule where it applies\n",
    "* Augment inspect_df so that if more than one rule applies, there's a selector for choosing. \n",
    "* Augment (1) so that it an take parameters and inspect_df knows how to show them. \n",
    "\n",
    "```\n",
    "class Viewer:\n",
    "    applies = {\n",
    "        'dates_on_cols': lambda df: 'Date' in df.schema,\n",
    "        'last_date': lambda df: 'Date' in df.schema,\n",
    "        'specific_date': lambda df: 'Date' in df.schema\n",
    "    }\n",
    "    def dates_on_cols(df):\n",
    "\n",
    "```"
   ]
  },
  {
   "cell_type": "code",
   "execution_count": null,
   "metadata": {},
   "outputs": [],
   "source": [
    "min_, max_ = 2015, 2020\n",
    "disp = proj['calc']\n",
    "disp = disp.filter(pl.col(\"Date\").is_between(min_, max_))\n",
    "disp = disp.melt([\"Country\",\"Date\"],[], \"Field\")\n",
    "disp = disp.collect().pivot(\"value\",[\"Country\",\"Field\"],\"Date\").sort(by=[\"Country\",\"Field\"])\n",
    "disp.inspect(until='calc')"
   ]
  },
  {
   "cell_type": "code",
   "execution_count": null,
   "metadata": {},
   "outputs": [],
   "source": [
    "# viewer.apply('dates_on_cols', proj['calc'], 2017, 2022, head=5)"
   ]
  },
  {
   "cell_type": "code",
   "execution_count": null,
   "metadata": {},
   "outputs": [],
   "source": [
    "def dates_on_cols(df, min_, max_, head=5):\n",
    "    disp = df\n",
    "    disp = disp.filter(pl.col(\"Date\").is_between(min_, max_))\n",
    "    disp = disp.melt([\"Country\",\"Date\"],[], \"Field\")\n",
    "    disp = disp.collect().pivot(\"value\",[\"Country\",\"Field\"],\"Date\").sort(by=[\"Country\",\"Field\"])\n",
    "    if head:\n",
    "        disp = disp.head(head)\n",
    "    return disp\n",
    "# dates_on_cols(proj['calc'], 2015, 2020).inspect(until=\"calc\")\n",
    "\n"
   ]
  },
  {
   "cell_type": "code",
   "execution_count": null,
   "metadata": {},
   "outputs": [],
   "source": [
    "def last(df, head=5):\n",
    "    return (df.groupby(\"Country\", maintain_order=True).last()).head(head).collect()"
   ]
  },
  {
   "cell_type": "code",
   "execution_count": null,
   "metadata": {},
   "outputs": [],
   "source": [
    "def on_date(df, dte:int, head=5):\n",
    "    return df.collect().filter(pl.col(\"Date\") == dte).head(head)\n",
    "\n",
    "#disp3.inspect(until='calc')\n",
    "# calc.add_to(\"diags\", disp3)"
   ]
  },
  {
   "cell_type": "code",
   "execution_count": null,
   "metadata": {},
   "outputs": [],
   "source": [
    "class ViewerRule:\n",
    "    def __init__(self, view, applies_to):\n",
    "        self.view, self.applies_to = view, applies_to\n",
    "\n",
    "def raw(df):\n",
    "    return df\n",
    "\n",
    "class Viewer:\n",
    "    def __init__(self, lf_to_df=lambda lf: lf.collect()):\n",
    "        raw.name = 'raw'\n",
    "        self.views = {\n",
    "            'raw': ViewerRule(raw, lambda x:True)\n",
    "        }\n",
    "        self.lf_to_df = lf_to_df\n",
    "\n",
    "    def add(self, func, applies_to, name=None):\n",
    "        assert callable(func)\n",
    "        assert callable(applies_to)\n",
    "        name = name if name else func.__name__\n",
    "        func.name = name\n",
    "        self.views[name] = ViewerRule(func,applies_to)\n",
    "\n",
    "    def applicable_views(self, df):\n",
    "        return [rule.view for rule in self.views.values() if rule.applies_to(df)]\n",
    "    \n",
    "    def applicable_names(self, df):\n",
    "        return [view.name for view in self.applicable_views(df)]\n",
    "\n",
    "    def rule(self, name):\n",
    "        return self.views[name]\n",
    "\n",
    "    def apply(self, name, df, *args, **kwargs):\n",
    "        df = df.collect() if isinstance(df.wrapped, pl.LazyFrame) else df\n",
    "        return self.views[name].view(df, *args, **kwargs)"
   ]
  },
  {
   "cell_type": "code",
   "execution_count": null,
   "metadata": {},
   "outputs": [],
   "source": [
    "from ipywidgets import interactive, interact \n",
    "import ipywidgets as widgets \n",
    "from IPython.display import display, HTML, clear_output\n",
    "from functools import wraps\n",
    "\n",
    "clear_output(wait=True)\n",
    "\n",
    "min_ = 2017\n",
    "max_ = 2022\n",
    "head = 5\n",
    "on   = 2020\n",
    "\n",
    "int_layout = widgets.Layout(width='20ch')\n",
    "params = {\n",
    "    'dates_on_cols': dict(min_=widgets.IntText(min_, layout=int_layout), max_=widgets.IntText(max_, layout=int_layout), head=widgets.IntText(head, layout=int_layout)),\n",
    "    'last': dict(head=head),\n",
    "    'on_date': dict(dte=widgets.IntText(on), head=head)\n",
    "}\n",
    "\n",
    "viewer = Viewer()\n",
    "viewer.add(dates_on_cols, applies_to=lambda df: 'Date' in df.schema)\n",
    "viewer.add(last, applies_to=lambda df: 'Date' in df.schema)\n",
    "viewer.add(on_date, applies_to=lambda df: 'Date' in df.schema)\n",
    "\n",
    "my_df = proj['calc']\n",
    "selector = widgets.Dropdown(options=viewer.applicable_names(my_df))\n",
    "df_out   = widgets.Output()\n",
    "layout = widgets.VBox([selector, df_out])\n",
    "\n",
    "def wrapper(df, func):\n",
    "    def inner(*args, **kwargs):\n",
    "        obj = func(df, *args, **kwargs)\n",
    "        display(obj)\n",
    "    return inner\n",
    "\n",
    "def update_output(event):\n",
    "    name = event['new']\n",
    "    df_out.clear_output(wait=True)\n",
    "    widget = interactive(wrapper(my_df, viewer.rule(name).view), **params.get(name, {}))\n",
    "    with df_out:\n",
    "        display(widget)\n",
    "\n",
    "selector.observe(update_output, 'value')\n",
    "\n",
    "update_output({'new':selector.value})\n",
    "\n",
    "layout"
   ]
  },
  {
   "cell_type": "markdown",
   "metadata": {},
   "source": [
    "# TODOs\n",
    "\n",
    "## Active\n",
    "\n",
    "1. save_to and add_to \n",
    "2. add diags to inspect\n",
    "3. parameterized diags\n",
    "\n",
    "## Backlog\n",
    "\n",
    "1. 'until' on traverse\n",
    "2. track graphs (joins)\n",
    "3. Diagnostics for Period Series like tables. \n",
    "4. Table formats"
   ]
  },
  {
   "cell_type": "markdown",
   "metadata": {},
   "source": []
  }
 ],
 "metadata": {
  "jupytext": {
   "formats": "ipynb,py:percent"
  },
  "kernelspec": {
   "display_name": "Python 3",
   "language": "python",
   "name": "python3"
  },
  "language_info": {
   "codemirror_mode": {
    "name": "ipython",
    "version": 3
   },
   "file_extension": ".py",
   "mimetype": "text/x-python",
   "name": "python",
   "nbconvert_exporter": "python",
   "pygments_lexer": "ipython3",
   "version": "3.10.12"
  }
 },
 "nbformat": 4,
 "nbformat_minor": 2
}
